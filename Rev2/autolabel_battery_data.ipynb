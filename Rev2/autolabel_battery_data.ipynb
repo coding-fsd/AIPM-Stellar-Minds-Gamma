{
  "nbformat": 4,
  "nbformat_minor": 0,
  "metadata": {
    "colab": {
      "provenance": []
    },
    "kernelspec": {
      "name": "python3",
      "display_name": "Python 3"
    },
    "language_info": {
      "name": "python"
    }
  },
  "cells": [
    {
      "cell_type": "code",
      "source": [
        "pip install openai==0.28"
      ],
      "metadata": {
        "colab": {
          "base_uri": "https://localhost:8080/",
          "height": 513
        },
        "id": "MCKZLyKdSw3M",
        "outputId": "912fc6fb-32ec-41c2-abc7-00c8a1a7f652"
      },
      "execution_count": null,
      "outputs": [
        {
          "output_type": "stream",
          "name": "stdout",
          "text": [
            "Collecting openai==0.28\n",
            "  Using cached openai-0.28.0-py3-none-any.whl.metadata (13 kB)\n",
            "Requirement already satisfied: requests>=2.20 in /usr/local/lib/python3.11/dist-packages (from openai==0.28) (2.32.3)\n",
            "Requirement already satisfied: tqdm in /usr/local/lib/python3.11/dist-packages (from openai==0.28) (4.67.1)\n",
            "Requirement already satisfied: aiohttp in /usr/local/lib/python3.11/dist-packages (from openai==0.28) (3.11.15)\n",
            "Requirement already satisfied: charset-normalizer<4,>=2 in /usr/local/lib/python3.11/dist-packages (from requests>=2.20->openai==0.28) (3.4.1)\n",
            "Requirement already satisfied: idna<4,>=2.5 in /usr/local/lib/python3.11/dist-packages (from requests>=2.20->openai==0.28) (3.10)\n",
            "Requirement already satisfied: urllib3<3,>=1.21.1 in /usr/local/lib/python3.11/dist-packages (from requests>=2.20->openai==0.28) (2.3.0)\n",
            "Requirement already satisfied: certifi>=2017.4.17 in /usr/local/lib/python3.11/dist-packages (from requests>=2.20->openai==0.28) (2025.1.31)\n",
            "Requirement already satisfied: aiohappyeyeballs>=2.3.0 in /usr/local/lib/python3.11/dist-packages (from aiohttp->openai==0.28) (2.6.1)\n",
            "Requirement already satisfied: aiosignal>=1.1.2 in /usr/local/lib/python3.11/dist-packages (from aiohttp->openai==0.28) (1.3.2)\n",
            "Requirement already satisfied: attrs>=17.3.0 in /usr/local/lib/python3.11/dist-packages (from aiohttp->openai==0.28) (25.3.0)\n",
            "Requirement already satisfied: frozenlist>=1.1.1 in /usr/local/lib/python3.11/dist-packages (from aiohttp->openai==0.28) (1.5.0)\n",
            "Requirement already satisfied: multidict<7.0,>=4.5 in /usr/local/lib/python3.11/dist-packages (from aiohttp->openai==0.28) (6.2.0)\n",
            "Requirement already satisfied: propcache>=0.2.0 in /usr/local/lib/python3.11/dist-packages (from aiohttp->openai==0.28) (0.3.1)\n",
            "Requirement already satisfied: yarl<2.0,>=1.17.0 in /usr/local/lib/python3.11/dist-packages (from aiohttp->openai==0.28) (1.18.3)\n",
            "Using cached openai-0.28.0-py3-none-any.whl (76 kB)\n",
            "Installing collected packages: openai\n",
            "  Attempting uninstall: openai\n",
            "    Found existing installation: openai 1.71.0\n",
            "    Uninstalling openai-1.71.0:\n",
            "      Successfully uninstalled openai-1.71.0\n",
            "Successfully installed openai-0.28.0\n"
          ]
        },
        {
          "output_type": "display_data",
          "data": {
            "application/vnd.colab-display-data+json": {
              "pip_warning": {
                "packages": [
                  "openai"
                ]
              },
              "id": "a2d4f291c53841b88544494ffd7dbf1c"
            }
          },
          "metadata": {}
        }
      ]
    },
    {
      "cell_type": "markdown",
      "source": [
        "we have all the 20 .rar files copied in drive, converting them to csv files"
      ],
      "metadata": {
        "id": "Da79i9YU6EIZ"
      }
    },
    {
      "cell_type": "code",
      "execution_count": null,
      "metadata": {
        "colab": {
          "base_uri": "https://localhost:8080/"
        },
        "id": "74v5Roi7OSNN",
        "outputId": "2eb8714e-d399-4eba-c6d8-43a87b1da0d4"
      },
      "outputs": [
        {
          "output_type": "stream",
          "name": "stdout",
          "text": [
            "Drive already mounted at /content/drive; to attempt to forcibly remount, call drive.mount(\"/content/drive\", force_remount=True).\n",
            "Reading package lists... Done\n",
            "Building dependency tree... Done\n",
            "Reading state information... Done\n",
            "unrar is already the newest version (1:6.1.5-1ubuntu0.1).\n",
            "0 upgraded, 0 newly installed, 0 to remove and 30 not upgraded.\n",
            "Requirement already satisfied: rarfile in /usr/local/lib/python3.11/dist-packages (4.2)\n",
            "RAR files found: ['#3.rar', '#14.rar', '#12.rar', '#6.rar', '#11.rar', '#1.rar', '#8.rar', '#20.rar', '#10.rar', '#19.rar', '#17.rar', '#2.rar', '#5.rar', '#4.rar', '#7.rar', '#13.rar', '#16.rar', '#15.rar', '#9.rar', '#18.rar']\n",
            "Extracted #3.rar to /content/drive/MyDrive/AIPM/battery-charging-data/cleandata/\n",
            "Extracted #14.rar to /content/drive/MyDrive/AIPM/battery-charging-data/cleandata/\n",
            "Extracted #12.rar to /content/drive/MyDrive/AIPM/battery-charging-data/cleandata/\n",
            "Extracted #6.rar to /content/drive/MyDrive/AIPM/battery-charging-data/cleandata/\n",
            "Extracted #11.rar to /content/drive/MyDrive/AIPM/battery-charging-data/cleandata/\n",
            "Extracted #1.rar to /content/drive/MyDrive/AIPM/battery-charging-data/cleandata/\n",
            "Extracted #8.rar to /content/drive/MyDrive/AIPM/battery-charging-data/cleandata/\n",
            "Extracted #20.rar to /content/drive/MyDrive/AIPM/battery-charging-data/cleandata/\n",
            "Extracted #10.rar to /content/drive/MyDrive/AIPM/battery-charging-data/cleandata/\n",
            "Extracted #19.rar to /content/drive/MyDrive/AIPM/battery-charging-data/cleandata/\n",
            "Extracted #17.rar to /content/drive/MyDrive/AIPM/battery-charging-data/cleandata/\n",
            "Extracted #2.rar to /content/drive/MyDrive/AIPM/battery-charging-data/cleandata/\n",
            "Extracted #5.rar to /content/drive/MyDrive/AIPM/battery-charging-data/cleandata/\n",
            "Extracted #4.rar to /content/drive/MyDrive/AIPM/battery-charging-data/cleandata/\n",
            "Extracted #7.rar to /content/drive/MyDrive/AIPM/battery-charging-data/cleandata/\n",
            "Extracted #13.rar to /content/drive/MyDrive/AIPM/battery-charging-data/cleandata/\n",
            "Extracted #16.rar to /content/drive/MyDrive/AIPM/battery-charging-data/cleandata/\n",
            "Extracted #15.rar to /content/drive/MyDrive/AIPM/battery-charging-data/cleandata/\n",
            "Extracted #9.rar to /content/drive/MyDrive/AIPM/battery-charging-data/cleandata/\n",
            "Extracted #18.rar to /content/drive/MyDrive/AIPM/battery-charging-data/cleandata/\n"
          ]
        }
      ],
      "source": [
        "# Step 0: Mount Google Drive\n",
        "from google.colab import drive\n",
        "drive.mount('/content/drive')\n",
        "\n",
        "# Step 1: Install required packages for RAR extraction\n",
        "!apt-get install unrar -y\n",
        "!pip install rarfile\n",
        "\n",
        "# Step 2: Define input and output folders\n",
        "import os\n",
        "\n",
        "input_folder = \"/content/drive/MyDrive/AIPM/battery-charging-data/\"\n",
        "output_folder = \"/content/drive/MyDrive/AIPM/battery-charging-data/cleandata/\"\n",
        "\n",
        "# Create the output folder if it doesn't exist\n",
        "if not os.path.exists(output_folder):\n",
        "    os.makedirs(output_folder)\n",
        "\n",
        "# Step 3: List all RAR files in the input folder\n",
        "rar_files = [f for f in os.listdir(input_folder) if f.endswith(\".rar\")]\n",
        "print(\"RAR files found:\", rar_files)\n",
        "\n",
        "# Step 4: Extract each RAR file into the output folder\n",
        "import rarfile\n",
        "\n",
        "for rar_file in rar_files:\n",
        "    rar_path = os.path.join(input_folder, rar_file)\n",
        "    try:\n",
        "        with rarfile.RarFile(rar_path) as rf:\n",
        "            rf.extractall(path=output_folder)\n",
        "            print(f\"Extracted {rar_file} to {output_folder}\")\n",
        "    except Exception as e:\n",
        "        print(f\"Error extracting {rar_file}: {e}\")"
      ]
    },
    {
      "cell_type": "markdown",
      "source": [
        "combine all the csv files into one combined file"
      ],
      "metadata": {
        "id": "c26t4Tqy6Of2"
      }
    },
    {
      "cell_type": "code",
      "source": [
        "import os\n",
        "import pandas as pd\n",
        "\n",
        "# Define the folder containing the extracted CSV files\n",
        "csv_folder = \"/content/drive/MyDrive/AIPM/battery-charging-data/cleandata/\"\n",
        "\n",
        "# List all CSV files in the folder\n",
        "csv_files = [os.path.join(csv_folder, f) for f in os.listdir(csv_folder) if f.endswith(\".csv\")]\n",
        "print(\"CSV files found:\", csv_files)\n",
        "\n",
        "# Read each CSV file and store in a list\n",
        "dfs = []\n",
        "for file in csv_files:\n",
        "    try:\n",
        "        df_temp = pd.read_csv(file)\n",
        "        dfs.append(df_temp)\n",
        "        print(f\"Loaded {file} with shape: {df_temp.shape}\")\n",
        "    except Exception as e:\n",
        "        print(f\"Error reading {file}: {e}\")\n",
        "\n",
        "# Concatenate all DataFrames if any CSV files were loaded\n",
        "if dfs:\n",
        "    combined_df = pd.concat(dfs, ignore_index=True)\n",
        "    print(\"Combined DataFrame shape:\", combined_df.shape)\n",
        "\n",
        "    # Define the output path for the common CSV file\n",
        "    output_csv = os.path.join(csv_folder, \"combined_battery_data.csv\")\n",
        "\n",
        "    # Save the combined DataFrame to CSV\n",
        "    combined_df.to_csv(output_csv, index=False)\n",
        "    print(\"Combined CSV file saved to:\", output_csv)\n",
        "else:\n",
        "    print(\"No CSV files found in the folder.\")"
      ],
      "metadata": {
        "colab": {
          "base_uri": "https://localhost:8080/"
        },
        "id": "iIIyMiSoULX6",
        "outputId": "ca1af458-fb6c-4fe1-d0d3-a8f4197c7c7f"
      },
      "execution_count": null,
      "outputs": [
        {
          "output_type": "stream",
          "name": "stdout",
          "text": [
            "CSV files found: ['/content/drive/MyDrive/AIPM/battery-charging-data/cleandata/#3.csv', '/content/drive/MyDrive/AIPM/battery-charging-data/cleandata/#14.csv', '/content/drive/MyDrive/AIPM/battery-charging-data/cleandata/#12.csv', '/content/drive/MyDrive/AIPM/battery-charging-data/cleandata/#6.csv', '/content/drive/MyDrive/AIPM/battery-charging-data/cleandata/#11.csv', '/content/drive/MyDrive/AIPM/battery-charging-data/cleandata/#1.csv', '/content/drive/MyDrive/AIPM/battery-charging-data/cleandata/#8.csv', '/content/drive/MyDrive/AIPM/battery-charging-data/cleandata/#20.csv', '/content/drive/MyDrive/AIPM/battery-charging-data/cleandata/#10.csv', '/content/drive/MyDrive/AIPM/battery-charging-data/cleandata/#19.csv', '/content/drive/MyDrive/AIPM/battery-charging-data/cleandata/#17.csv', '/content/drive/MyDrive/AIPM/battery-charging-data/cleandata/#2.csv', '/content/drive/MyDrive/AIPM/battery-charging-data/cleandata/#5.csv', '/content/drive/MyDrive/AIPM/battery-charging-data/cleandata/#4.csv', '/content/drive/MyDrive/AIPM/battery-charging-data/cleandata/#7.csv', '/content/drive/MyDrive/AIPM/battery-charging-data/cleandata/#13.csv', '/content/drive/MyDrive/AIPM/battery-charging-data/cleandata/#16.csv', '/content/drive/MyDrive/AIPM/battery-charging-data/cleandata/#15.csv', '/content/drive/MyDrive/AIPM/battery-charging-data/cleandata/#9.csv', '/content/drive/MyDrive/AIPM/battery-charging-data/cleandata/#18.csv', '/content/drive/MyDrive/AIPM/battery-charging-data/cleandata/combined_battery_data.csv']\n",
            "Loaded /content/drive/MyDrive/AIPM/battery-charging-data/cleandata/#3.csv with shape: (802918, 11)\n",
            "Loaded /content/drive/MyDrive/AIPM/battery-charging-data/cleandata/#14.csv with shape: (793132, 11)\n",
            "Loaded /content/drive/MyDrive/AIPM/battery-charging-data/cleandata/#12.csv with shape: (825533, 11)\n",
            "Loaded /content/drive/MyDrive/AIPM/battery-charging-data/cleandata/#6.csv with shape: (815202, 11)\n",
            "Loaded /content/drive/MyDrive/AIPM/battery-charging-data/cleandata/#11.csv with shape: (809470, 11)\n",
            "Loaded /content/drive/MyDrive/AIPM/battery-charging-data/cleandata/#1.csv with shape: (854591, 11)\n",
            "Loaded /content/drive/MyDrive/AIPM/battery-charging-data/cleandata/#8.csv with shape: (798496, 11)\n",
            "Loaded /content/drive/MyDrive/AIPM/battery-charging-data/cleandata/#20.csv with shape: (807489, 11)\n",
            "Loaded /content/drive/MyDrive/AIPM/battery-charging-data/cleandata/#10.csv with shape: (728849, 11)\n",
            "Loaded /content/drive/MyDrive/AIPM/battery-charging-data/cleandata/#19.csv with shape: (778745, 11)\n",
            "Loaded /content/drive/MyDrive/AIPM/battery-charging-data/cleandata/#17.csv with shape: (767868, 11)\n",
            "Loaded /content/drive/MyDrive/AIPM/battery-charging-data/cleandata/#2.csv with shape: (841810, 11)\n",
            "Loaded /content/drive/MyDrive/AIPM/battery-charging-data/cleandata/#5.csv with shape: (832189, 11)\n",
            "Loaded /content/drive/MyDrive/AIPM/battery-charging-data/cleandata/#4.csv with shape: (844537, 11)\n",
            "Loaded /content/drive/MyDrive/AIPM/battery-charging-data/cleandata/#7.csv with shape: (808770, 11)\n",
            "Loaded /content/drive/MyDrive/AIPM/battery-charging-data/cleandata/#13.csv with shape: (818352, 11)\n",
            "Loaded /content/drive/MyDrive/AIPM/battery-charging-data/cleandata/#16.csv with shape: (819567, 11)\n",
            "Loaded /content/drive/MyDrive/AIPM/battery-charging-data/cleandata/#15.csv with shape: (704958, 11)\n",
            "Loaded /content/drive/MyDrive/AIPM/battery-charging-data/cleandata/#9.csv with shape: (792060, 11)\n",
            "Loaded /content/drive/MyDrive/AIPM/battery-charging-data/cleandata/#18.csv with shape: (856192, 11)\n",
            "Loaded /content/drive/MyDrive/AIPM/battery-charging-data/cleandata/combined_battery_data.csv with shape: (23176965, 11)\n",
            "Combined DataFrame shape: (39277693, 11)\n"
          ]
        }
      ]
    },
    {
      "cell_type": "markdown",
      "source": [
        "Actual code, auto label using autoGen"
      ],
      "metadata": {
        "id": "3I0FS7lna5WS"
      }
    },
    {
      "cell_type": "markdown",
      "source": [],
      "metadata": {
        "id": "XDxFiI_Va5F1"
      }
    },
    {
      "cell_type": "markdown",
      "source": [
        "Precheck & Install Required Packages"
      ],
      "metadata": {
        "id": "-tMylergbAoX"
      }
    },
    {
      "cell_type": "code",
      "source": [
        "# Precheck: Install required packages (if not already installed)\n",
        "!pip install --upgrade pandas numpy matplotlib openai\n",
        "!apt-get install unrar -y\n",
        "!pip install rarfile"
      ],
      "metadata": {
        "colab": {
          "base_uri": "https://localhost:8080/"
        },
        "id": "a_btMv2ia9C0",
        "outputId": "2f6a4e41-dad4-4058-af36-5c4e9e09135c"
      },
      "execution_count": 5,
      "outputs": [
        {
          "output_type": "stream",
          "name": "stdout",
          "text": [
            "Requirement already satisfied: pandas in /usr/local/lib/python3.11/dist-packages (2.2.3)\n",
            "Requirement already satisfied: numpy in /usr/local/lib/python3.11/dist-packages (2.2.4)\n",
            "Requirement already satisfied: matplotlib in /usr/local/lib/python3.11/dist-packages (3.10.1)\n",
            "Requirement already satisfied: openai in /usr/local/lib/python3.11/dist-packages (0.28.0)\n",
            "Collecting openai\n",
            "  Using cached openai-1.71.0-py3-none-any.whl.metadata (25 kB)\n",
            "Requirement already satisfied: python-dateutil>=2.8.2 in /usr/local/lib/python3.11/dist-packages (from pandas) (2.8.2)\n",
            "Requirement already satisfied: pytz>=2020.1 in /usr/local/lib/python3.11/dist-packages (from pandas) (2025.2)\n",
            "Requirement already satisfied: tzdata>=2022.7 in /usr/local/lib/python3.11/dist-packages (from pandas) (2025.2)\n",
            "Requirement already satisfied: contourpy>=1.0.1 in /usr/local/lib/python3.11/dist-packages (from matplotlib) (1.3.1)\n",
            "Requirement already satisfied: cycler>=0.10 in /usr/local/lib/python3.11/dist-packages (from matplotlib) (0.12.1)\n",
            "Requirement already satisfied: fonttools>=4.22.0 in /usr/local/lib/python3.11/dist-packages (from matplotlib) (4.57.0)\n",
            "Requirement already satisfied: kiwisolver>=1.3.1 in /usr/local/lib/python3.11/dist-packages (from matplotlib) (1.4.8)\n",
            "Requirement already satisfied: packaging>=20.0 in /usr/local/lib/python3.11/dist-packages (from matplotlib) (24.2)\n",
            "Requirement already satisfied: pillow>=8 in /usr/local/lib/python3.11/dist-packages (from matplotlib) (11.1.0)\n",
            "Requirement already satisfied: pyparsing>=2.3.1 in /usr/local/lib/python3.11/dist-packages (from matplotlib) (3.2.3)\n",
            "Requirement already satisfied: anyio<5,>=3.5.0 in /usr/local/lib/python3.11/dist-packages (from openai) (4.9.0)\n",
            "Requirement already satisfied: distro<2,>=1.7.0 in /usr/local/lib/python3.11/dist-packages (from openai) (1.9.0)\n",
            "Requirement already satisfied: httpx<1,>=0.23.0 in /usr/local/lib/python3.11/dist-packages (from openai) (0.28.1)\n",
            "Requirement already satisfied: jiter<1,>=0.4.0 in /usr/local/lib/python3.11/dist-packages (from openai) (0.9.0)\n",
            "Requirement already satisfied: pydantic<3,>=1.9.0 in /usr/local/lib/python3.11/dist-packages (from openai) (2.11.2)\n",
            "Requirement already satisfied: sniffio in /usr/local/lib/python3.11/dist-packages (from openai) (1.3.1)\n",
            "Requirement already satisfied: tqdm>4 in /usr/local/lib/python3.11/dist-packages (from openai) (4.67.1)\n",
            "Requirement already satisfied: typing-extensions<5,>=4.11 in /usr/local/lib/python3.11/dist-packages (from openai) (4.13.1)\n",
            "Requirement already satisfied: idna>=2.8 in /usr/local/lib/python3.11/dist-packages (from anyio<5,>=3.5.0->openai) (3.10)\n",
            "Requirement already satisfied: certifi in /usr/local/lib/python3.11/dist-packages (from httpx<1,>=0.23.0->openai) (2025.1.31)\n",
            "Requirement already satisfied: httpcore==1.* in /usr/local/lib/python3.11/dist-packages (from httpx<1,>=0.23.0->openai) (1.0.7)\n",
            "Requirement already satisfied: h11<0.15,>=0.13 in /usr/local/lib/python3.11/dist-packages (from httpcore==1.*->httpx<1,>=0.23.0->openai) (0.14.0)\n",
            "Requirement already satisfied: annotated-types>=0.6.0 in /usr/local/lib/python3.11/dist-packages (from pydantic<3,>=1.9.0->openai) (0.7.0)\n",
            "Requirement already satisfied: pydantic-core==2.33.1 in /usr/local/lib/python3.11/dist-packages (from pydantic<3,>=1.9.0->openai) (2.33.1)\n",
            "Requirement already satisfied: typing-inspection>=0.4.0 in /usr/local/lib/python3.11/dist-packages (from pydantic<3,>=1.9.0->openai) (0.4.0)\n",
            "Requirement already satisfied: six>=1.5 in /usr/local/lib/python3.11/dist-packages (from python-dateutil>=2.8.2->pandas) (1.17.0)\n",
            "Using cached openai-1.71.0-py3-none-any.whl (598 kB)\n",
            "Installing collected packages: openai\n",
            "  Attempting uninstall: openai\n",
            "    Found existing installation: openai 0.28.0\n",
            "    Uninstalling openai-0.28.0:\n",
            "      Successfully uninstalled openai-0.28.0\n",
            "Successfully installed openai-1.71.0\n",
            "Reading package lists... Done\n",
            "Building dependency tree... Done\n",
            "Reading state information... Done\n",
            "unrar is already the newest version (1:6.1.5-1ubuntu0.1).\n",
            "0 upgraded, 0 newly installed, 0 to remove and 30 not upgraded.\n",
            "Requirement already satisfied: rarfile in /usr/local/lib/python3.11/dist-packages (4.2)\n"
          ]
        }
      ]
    },
    {
      "cell_type": "markdown",
      "source": [
        "Mount Google Drive & Load OpenAI API Key"
      ],
      "metadata": {
        "id": "AMZlsDEgbELT"
      }
    },
    {
      "cell_type": "code",
      "source": [
        "pip install openai==0.28"
      ],
      "metadata": {
        "id": "omlrpS1n0Qbe",
        "colab": {
          "base_uri": "https://localhost:8080/",
          "height": 513
        },
        "outputId": "5e3ece9a-793b-4bc0-d838-9bff0d8dcb01"
      },
      "execution_count": 7,
      "outputs": [
        {
          "output_type": "stream",
          "name": "stdout",
          "text": [
            "Collecting openai==0.28\n",
            "  Using cached openai-0.28.0-py3-none-any.whl.metadata (13 kB)\n",
            "Requirement already satisfied: requests>=2.20 in /usr/local/lib/python3.11/dist-packages (from openai==0.28) (2.32.3)\n",
            "Requirement already satisfied: tqdm in /usr/local/lib/python3.11/dist-packages (from openai==0.28) (4.67.1)\n",
            "Requirement already satisfied: aiohttp in /usr/local/lib/python3.11/dist-packages (from openai==0.28) (3.11.15)\n",
            "Requirement already satisfied: charset-normalizer<4,>=2 in /usr/local/lib/python3.11/dist-packages (from requests>=2.20->openai==0.28) (3.4.1)\n",
            "Requirement already satisfied: idna<4,>=2.5 in /usr/local/lib/python3.11/dist-packages (from requests>=2.20->openai==0.28) (3.10)\n",
            "Requirement already satisfied: urllib3<3,>=1.21.1 in /usr/local/lib/python3.11/dist-packages (from requests>=2.20->openai==0.28) (2.3.0)\n",
            "Requirement already satisfied: certifi>=2017.4.17 in /usr/local/lib/python3.11/dist-packages (from requests>=2.20->openai==0.28) (2025.1.31)\n",
            "Requirement already satisfied: aiohappyeyeballs>=2.3.0 in /usr/local/lib/python3.11/dist-packages (from aiohttp->openai==0.28) (2.6.1)\n",
            "Requirement already satisfied: aiosignal>=1.1.2 in /usr/local/lib/python3.11/dist-packages (from aiohttp->openai==0.28) (1.3.2)\n",
            "Requirement already satisfied: attrs>=17.3.0 in /usr/local/lib/python3.11/dist-packages (from aiohttp->openai==0.28) (25.3.0)\n",
            "Requirement already satisfied: frozenlist>=1.1.1 in /usr/local/lib/python3.11/dist-packages (from aiohttp->openai==0.28) (1.5.0)\n",
            "Requirement already satisfied: multidict<7.0,>=4.5 in /usr/local/lib/python3.11/dist-packages (from aiohttp->openai==0.28) (6.2.0)\n",
            "Requirement already satisfied: propcache>=0.2.0 in /usr/local/lib/python3.11/dist-packages (from aiohttp->openai==0.28) (0.3.1)\n",
            "Requirement already satisfied: yarl<2.0,>=1.17.0 in /usr/local/lib/python3.11/dist-packages (from aiohttp->openai==0.28) (1.18.3)\n",
            "Using cached openai-0.28.0-py3-none-any.whl (76 kB)\n",
            "Installing collected packages: openai\n",
            "  Attempting uninstall: openai\n",
            "    Found existing installation: openai 1.71.0\n",
            "    Uninstalling openai-1.71.0:\n",
            "      Successfully uninstalled openai-1.71.0\n",
            "Successfully installed openai-0.28.0\n"
          ]
        },
        {
          "output_type": "display_data",
          "data": {
            "application/vnd.colab-display-data+json": {
              "pip_warning": {
                "packages": [
                  "openai"
                ]
              },
              "id": "e42cdedb471e4dfdbfab32168a8a4038"
            }
          },
          "metadata": {}
        }
      ]
    },
    {
      "cell_type": "code",
      "source": [
        "from google.colab import drive\n",
        "drive.mount('/content/drive')\n",
        "\n",
        "import os\n",
        "import openai\n",
        "\n",
        "# Set file paths based on your structure\n",
        "base_folder = \"/content/drive/MyDrive/AIPM\"\n",
        "key_file_path = os.path.join(base_folder,  \"openai_key.txt\")\n",
        "\n",
        "# Load and set OpenAI API key\n",
        "with open(key_file_path, \"r\") as f:\n",
        "    api_key = f.read().strip()\n",
        "openai.api_key = api_key\n",
        "print(\"OpenAI API key loaded and set.\")\n",
        "\n",
        "# Test the API key with a simple GPT-4 request\n",
        "response = openai.ChatCompletion.create(\n",
        "    model=\"gpt-4\",\n",
        "    messages=[{\"role\": \"user\", \"content\": \"Hello, world!\"}],\n",
        "    max_tokens=50\n",
        ")\n",
        "print(\"API Test Response:\", response.choices[0].message.content)"
      ],
      "metadata": {
        "colab": {
          "base_uri": "https://localhost:8080/"
        },
        "id": "vOaX8YJZbGBS",
        "outputId": "833ed7ac-0ba1-4804-8f6a-228183bc228e"
      },
      "execution_count": 1,
      "outputs": [
        {
          "output_type": "stream",
          "name": "stdout",
          "text": [
            "Drive already mounted at /content/drive; to attempt to forcibly remount, call drive.mount(\"/content/drive\", force_remount=True).\n",
            "OpenAI API key loaded and set.\n",
            "API Test Response: Hello! How can I assist you today?\n"
          ]
        }
      ]
    },
    {
      "cell_type": "code",
      "source": [],
      "metadata": {
        "id": "zkh4X1wwbJ3e"
      },
      "execution_count": null,
      "outputs": []
    },
    {
      "cell_type": "markdown",
      "source": [
        "Load Battery-Charging Data"
      ],
      "metadata": {
        "id": "steSE0zRbNCh"
      }
    },
    {
      "cell_type": "code",
      "source": [
        "import pandas as pd\n",
        "\n",
        "# Define the data file path\n",
        "data_file_path = os.path.join(base_folder, \"battery-charging-data\", \"cleandata\", \"combined_battery_data.csv\")\n",
        "\n",
        "def load_data(file_path=data_file_path):\n",
        "    print(f\"Loading data from {file_path}...\")\n",
        "    df = pd.read_csv(file_path)\n",
        "    print(f\"Data loaded successfully. Shape: {df.shape}\")\n",
        "    print(\"Columns in the dataframe:\", df.columns.tolist())\n",
        "    return df\n",
        "\n",
        "df = load_data()\n",
        "\n",
        "# Optionally, sample some rows for testing\n",
        "sampled_df = df.sample(n=min(10, len(df)), random_state=42)\n",
        "print(\"Sampled data preview:\")\n",
        "print(sampled_df.head())"
      ],
      "metadata": {
        "colab": {
          "base_uri": "https://localhost:8080/"
        },
        "id": "rf5BFJFibN0_",
        "outputId": "115e737c-6451-437c-91b6-b93bb3512e4e"
      },
      "execution_count": 2,
      "outputs": [
        {
          "output_type": "stream",
          "name": "stdout",
          "text": [
            "Loading data from /content/drive/MyDrive/AIPM/battery-charging-data/cleandata/combined_battery_data.csv...\n",
            "Data loaded successfully. Shape: (23176965, 11)\n",
            "Columns in the dataframe: ['Unnamed: 0', 'record_time', 'soc', 'pack_voltage (V)', 'charge_current (A)', 'max_cell_voltage (V)', 'min_cell_voltage (V)', 'max_temperature (℃)', 'min_temperature (℃)', 'available_energy (kw)', 'available_capacity (Ah)']\n",
            "Sampled data preview:\n",
            "          Unnamed: 0     record_time   soc  pack_voltage (V)  \\\n",
            "15965559      721023  20210623090759  28.0             326.7   \n",
            "6854669       347838  20200826142327  67.2             354.4   \n",
            "19579297      241784  20200119180836  49.2             338.2   \n",
            "11721029      420200  20200820202906  86.0             371.6   \n",
            "20941270      794287  20210909091932  29.6             330.3   \n",
            "\n",
            "          charge_current (A)  max_cell_voltage (V)  min_cell_voltage (V)  \\\n",
            "15965559             0.00000                 3.633                 3.624   \n",
            "6854669            -70.00000                 3.961                 3.919   \n",
            "19579297           -70.10001                 3.780                 3.753   \n",
            "11721029           -70.00000                 4.153                 4.115   \n",
            "20941270           -69.89999                 3.689                 3.665   \n",
            "\n",
            "          max_temperature (℃)  min_temperature (℃)  available_energy (kw)  \\\n",
            "15965559                   28                   27                  12.50   \n",
            "6854669                    40                   38                  29.23   \n",
            "19579297                   25                   22                  21.92   \n",
            "11721029                   42                   40                  36.17   \n",
            "20941270                   36                   35                  13.13   \n",
            "\n",
            "          available_capacity (Ah)  \n",
            "15965559                    37.60  \n",
            "6854669                     87.88  \n",
            "19579297                    65.95  \n",
            "11721029                   108.73  \n",
            "20941270                    39.48  \n"
          ]
        }
      ]
    },
    {
      "cell_type": "markdown",
      "source": [
        "Define Battery Context and Summarization"
      ],
      "metadata": {
        "id": "nvZK7RizbQFm"
      }
    },
    {
      "cell_type": "code",
      "source": [
        "import json\n",
        "\n",
        "def get_battery_context():\n",
        "    return (\n",
        "        \"The battery-charging dataset is for on-road electric vehicles collected over 29 months from 20 commercial EVs. \"\n",
        "        \"Data is recorded every 8 seconds via CAN communication and includes measurements such as 'record_time' (timestamp), \"\n",
        "        \"'soc' (state of charge), 'pack_voltage (V)' (battery voltage), and 'charge_current (A)' (charging current), \"\n",
        "        \"as well as temperature readings. In normal_charging events, the voltage is relatively stable with moderate current; \"\n",
        "        \"fast_charging events exhibit higher current peaks; anomalous_charging or fault_condition events show irregular patterns. \"\n",
        "        \"This dataset is used for analyzing charging behavior and predicting battery capacity degradation.\"\n",
        "    )\n",
        "\n",
        "battery_context = get_battery_context()\n",
        "\n",
        "def get_possible_charging_labels():\n",
        "    return (\n",
        "        \"Possible labels: 'normal_charging', 'fast_charging', 'anomalous_charging', 'fault_condition'.\"\n",
        "    )\n",
        "\n",
        "possible_labels = get_possible_charging_labels()\n",
        "\n",
        "def summarize_battery_data(df):\n",
        "    \"\"\"Create a summary of key battery metrics (mean, std, min, max, trend) and include sample records.\"\"\"\n",
        "    summary = {}\n",
        "    for col in ['voltage', 'current', 'temperature', 'state_of_charge']:\n",
        "        if col in df.columns:\n",
        "            col_data = df[col].dropna()\n",
        "            if len(col_data) > 1:\n",
        "                trend = round(float(col_data.iloc[-1] - col_data.iloc[0]) / (len(col_data) - 1), 2)\n",
        "            else:\n",
        "                trend = 0\n",
        "            summary[col] = {\n",
        "                \"mean\": round(float(col_data.mean()), 2),\n",
        "                \"std\": round(float(col_data.std()), 2),\n",
        "                \"min\": round(float(col_data.min()), 2),\n",
        "                \"max\": round(float(col_data.max()), 2),\n",
        "                \"trend\": trend\n",
        "            }\n",
        "    sample_indices = [0, len(df)//2, -1] if len(df) >= 3 else list(range(len(df)))\n",
        "    summary[\"samples\"] = df.iloc[sample_indices].to_dict(\"records\")\n",
        "    return json.dumps(summary, indent=2)\n",
        "\n",
        "battery_summary = summarize_battery_data(df)\n",
        "print(\"Battery data summary created.\")\n",
        "print(battery_summary)"
      ],
      "metadata": {
        "colab": {
          "base_uri": "https://localhost:8080/"
        },
        "id": "Qh-EtYgZbSvO",
        "outputId": "dbc82d39-adb5-4013-848f-b1a9c69a3e6b"
      },
      "execution_count": 3,
      "outputs": [
        {
          "output_type": "stream",
          "name": "stdout",
          "text": [
            "Battery data summary created.\n",
            "{\n",
            "  \"samples\": [\n",
            "    {\n",
            "      \"Unnamed: 0\": 0,\n",
            "      \"record_time\": 20190726190805,\n",
            "      \"soc\": 5.2,\n",
            "      \"pack_voltage (V)\": 316.1,\n",
            "      \"charge_current (A)\": -8.200012,\n",
            "      \"max_cell_voltage (V)\": 3.518,\n",
            "      \"min_cell_voltage (V)\": 3.502,\n",
            "      \"max_temperature (\\u2103)\": 39,\n",
            "      \"min_temperature (\\u2103)\": 38,\n",
            "      \"available_energy (kw)\": 2.27,\n",
            "      \"available_capacity (Ah)\": 6.82\n",
            "    },\n",
            "    {\n",
            "      \"Unnamed: 0\": 287653,\n",
            "      \"record_time\": 20200403075248,\n",
            "      \"soc\": 22.0,\n",
            "      \"pack_voltage (V)\": 330.0,\n",
            "      \"charge_current (A)\": -70.10001,\n",
            "      \"max_cell_voltage (V)\": 3.69,\n",
            "      \"min_cell_voltage (V)\": 3.664,\n",
            "      \"max_temperature (\\u2103)\": 22,\n",
            "      \"min_temperature (\\u2103)\": 21,\n",
            "      \"available_energy (kw)\": 9.349999,\n",
            "      \"available_capacity (Ah)\": 28.14\n",
            "    },\n",
            "    {\n",
            "      \"Unnamed: 0\": 569405,\n",
            "      \"record_time\": 20210517103039,\n",
            "      \"soc\": 32.8,\n",
            "      \"pack_voltage (V)\": 332.2,\n",
            "      \"charge_current (A)\": -68.89999,\n",
            "      \"max_cell_voltage (V)\": 3.712,\n",
            "      \"min_cell_voltage (V)\": 3.684,\n",
            "      \"max_temperature (\\u2103)\": 32,\n",
            "      \"min_temperature (\\u2103)\": 31,\n",
            "      \"available_energy (kw)\": 13.49,\n",
            "      \"available_capacity (Ah)\": 40.57\n",
            "    }\n",
            "  ]\n",
            "}\n"
          ]
        }
      ]
    },
    {
      "cell_type": "markdown",
      "source": [
        "Create the Prompt for Battery Data"
      ],
      "metadata": {
        "id": "RWQteMNtbZUe"
      }
    },
    {
      "cell_type": "code",
      "source": [
        "def get_battery_context():\n",
        "    return (\n",
        "        \"The battery charging dataset contains field data collected from on-road electric vehicles over 29 months \"\n",
        "        \"from 20 commercial EVs. Data, recorded every 8 seconds via CAN communication, includes measurements such as \"\n",
        "        \"'record_time' (timestamp), 'soc' (state of charge), 'pack_voltage (V)' (voltage), and 'charge_current (A)'. \"\n",
        "        \"In normal_charging events, the voltage remains relatively stable with minor fluctuations, whereas fast_charging \"\n",
        "        \"events show higher current and possibly rapid voltage increases. Anomalous or fault conditions exhibit irregular \"\n",
        "        \"patterns or extreme values. This information is used to analyze charging behavior and predict battery degradation.\"\n",
        "    )\n",
        "\n",
        "def summarize_battery_data(df):\n",
        "    \"\"\"Create a summary of key battery metrics (mean, std, min, max, trend) and include sample records.\"\"\"\n",
        "    summary = {}\n",
        "    # Map the dataset columns to simpler metric names\n",
        "    metric_map = {\n",
        "        'pack_voltage (V)': 'voltage',\n",
        "        'charge_current (A)': 'current',\n",
        "        'soc': 'state_of_charge',\n",
        "        'max_temperature (℃)': 'temperature'  # Optionally merge with min_temperature if desired\n",
        "    }\n",
        "    for col, metric in metric_map.items():\n",
        "        if col in df.columns:\n",
        "            col_data = df[col].dropna()\n",
        "            if len(col_data) > 1:\n",
        "                trend = round(float(col_data.iloc[-1] - col_data.iloc[0]) / (len(col_data) - 1), 2)\n",
        "                pct25 = round(float(col_data.quantile(0.25)), 2)\n",
        "                pct75 = round(float(col_data.quantile(0.75)), 2)\n",
        "            else:\n",
        "                trend = pct25 = pct75 = 0\n",
        "            summary[metric] = {\n",
        "                \"mean\": round(float(col_data.mean()), 2),\n",
        "                \"std\": round(float(col_data.std()), 2),\n",
        "                \"min\": round(float(col_data.min()), 2),\n",
        "                \"max\": round(float(col_data.max()), 2),\n",
        "                \"trend\": trend,\n",
        "                \"25th_percentile\": pct25,\n",
        "                \"75th_percentile\": pct75,\n",
        "                \"range\": round(float(col_data.max() - col_data.min()), 2)\n",
        "            }\n",
        "    sample_indices = [0, len(df)//2, -1] if len(df) >= 3 else list(range(len(df)))\n",
        "    summary[\"samples\"] = df.iloc[sample_indices].to_dict(\"records\")\n",
        "    return json.dumps(summary, indent=2)\n",
        "\n",
        "def create_prompt_for_battery_data(df):\n",
        "    summary = summarize_battery_data(df)\n",
        "    prompt = (\n",
        "        f\"{battery_context}\\n\\n\"\n",
        "        f\"Possible labels:\\n{possible_labels}\\n\\n\"\n",
        "        f\"Data Summary:\\n{summary}\\n\\n\"\n",
        "        \"Based on the above battery data summary, select the most appropriate charging event label from these options: \"\n",
        "        \"'normal_charging', 'fast_charging', 'anomalous_charging', or 'fault_condition'. \"\n",
        "        \"If the data does not provide sufficient clues, respond with 'insufficient_data'. \"\n",
        "        \"Respond ONLY with the label in plain text.\"\n",
        "    )\n",
        "    return prompt"
      ],
      "metadata": {
        "id": "YkOL7_vyk-cQ"
      },
      "execution_count": 4,
      "outputs": []
    },
    {
      "cell_type": "code",
      "source": [
        "def create_prompt_for_battery_data(df):\n",
        "    \"\"\"Creates a prompt using battery context, possible labels, and the summarized dataset.\"\"\"\n",
        "    summary = summarize_battery_data(df)\n",
        "    prompt = (\n",
        "        f\"{battery_context}\\n\\n\"\n",
        "        f\"Possible labels:\\n{possible_labels}\\n\\n\"\n",
        "        f\"Data Summary:\\n{summary}\\n\\n\"\n",
        "        \"Based on the above battery data summary, select the most appropriate charging event label from these options: \"\n",
        "        \"'normal_charging', 'fast_charging', 'anomalous_charging', or 'fault_condition'. \"\n",
        "        \"If the data does not provide sufficient clues, respond with 'insufficient_data'. \"\n",
        "        \"Respond ONLY with the label in plain text.\"\n",
        "    )\n",
        "    return prompt\n",
        "\n",
        "prompt_battery = create_prompt_for_battery_data(df)\n",
        "print(\"Prompt for battery data created:\")\n",
        "print(prompt_battery)"
      ],
      "metadata": {
        "colab": {
          "base_uri": "https://localhost:8080/"
        },
        "id": "yyDmSBxJbZ_N",
        "outputId": "f4404992-dc2b-4b3f-9c80-84b6c4583fad"
      },
      "execution_count": 5,
      "outputs": [
        {
          "output_type": "stream",
          "name": "stdout",
          "text": [
            "Prompt for battery data created:\n",
            "The battery-charging dataset is for on-road electric vehicles collected over 29 months from 20 commercial EVs. Data is recorded every 8 seconds via CAN communication and includes measurements such as 'record_time' (timestamp), 'soc' (state of charge), 'pack_voltage (V)' (battery voltage), and 'charge_current (A)' (charging current), as well as temperature readings. In normal_charging events, the voltage is relatively stable with moderate current; fast_charging events exhibit higher current peaks; anomalous_charging or fault_condition events show irregular patterns. This dataset is used for analyzing charging behavior and predicting battery capacity degradation.\n",
            "\n",
            "Possible labels:\n",
            "Possible labels: 'normal_charging', 'fast_charging', 'anomalous_charging', 'fault_condition'.\n",
            "\n",
            "Data Summary:\n",
            "{\n",
            "  \"voltage\": {\n",
            "    \"mean\": 352.07,\n",
            "    \"std\": 16.22,\n",
            "    \"min\": 312.8,\n",
            "    \"max\": 386.2,\n",
            "    \"trend\": 0.0,\n",
            "    \"25th_percentile\": 336.9,\n",
            "    \"75th_percentile\": 366.1,\n",
            "    \"range\": 73.4\n",
            "  },\n",
            "  \"current\": {\n",
            "    \"mean\": -53.05,\n",
            "    \"std\": 17.15,\n",
            "    \"min\": -400.02,\n",
            "    \"max\": 12.1,\n",
            "    \"trend\": -0.0,\n",
            "    \"25th_percentile\": -70.0,\n",
            "    \"75th_percentile\": -44.0,\n",
            "    \"range\": 412.12\n",
            "  },\n",
            "  \"state_of_charge\": {\n",
            "    \"mean\": 63.99,\n",
            "    \"std\": 22.06,\n",
            "    \"min\": 0.0,\n",
            "    \"max\": 100.0,\n",
            "    \"trend\": 0.0,\n",
            "    \"25th_percentile\": 47.6,\n",
            "    \"75th_percentile\": 82.4,\n",
            "    \"range\": 100.0\n",
            "  },\n",
            "  \"temperature\": {\n",
            "    \"mean\": 33.92,\n",
            "    \"std\": 5.65,\n",
            "    \"min\": 0.0,\n",
            "    \"max\": 49.0,\n",
            "    \"trend\": -0.0,\n",
            "    \"25th_percentile\": 30.0,\n",
            "    \"75th_percentile\": 38.0,\n",
            "    \"range\": 49.0\n",
            "  },\n",
            "  \"samples\": [\n",
            "    {\n",
            "      \"Unnamed: 0\": 0,\n",
            "      \"record_time\": 20190726190805,\n",
            "      \"soc\": 5.2,\n",
            "      \"pack_voltage (V)\": 316.1,\n",
            "      \"charge_current (A)\": -8.200012,\n",
            "      \"max_cell_voltage (V)\": 3.518,\n",
            "      \"min_cell_voltage (V)\": 3.502,\n",
            "      \"max_temperature (\\u2103)\": 39,\n",
            "      \"min_temperature (\\u2103)\": 38,\n",
            "      \"available_energy (kw)\": 2.27,\n",
            "      \"available_capacity (Ah)\": 6.82\n",
            "    },\n",
            "    {\n",
            "      \"Unnamed: 0\": 287653,\n",
            "      \"record_time\": 20200403075248,\n",
            "      \"soc\": 22.0,\n",
            "      \"pack_voltage (V)\": 330.0,\n",
            "      \"charge_current (A)\": -70.10001,\n",
            "      \"max_cell_voltage (V)\": 3.69,\n",
            "      \"min_cell_voltage (V)\": 3.664,\n",
            "      \"max_temperature (\\u2103)\": 22,\n",
            "      \"min_temperature (\\u2103)\": 21,\n",
            "      \"available_energy (kw)\": 9.349999,\n",
            "      \"available_capacity (Ah)\": 28.14\n",
            "    },\n",
            "    {\n",
            "      \"Unnamed: 0\": 569405,\n",
            "      \"record_time\": 20210517103039,\n",
            "      \"soc\": 32.8,\n",
            "      \"pack_voltage (V)\": 332.2,\n",
            "      \"charge_current (A)\": -68.89999,\n",
            "      \"max_cell_voltage (V)\": 3.712,\n",
            "      \"min_cell_voltage (V)\": 3.684,\n",
            "      \"max_temperature (\\u2103)\": 32,\n",
            "      \"min_temperature (\\u2103)\": 31,\n",
            "      \"available_energy (kw)\": 13.49,\n",
            "      \"available_capacity (Ah)\": 40.57\n",
            "    }\n",
            "  ]\n",
            "}\n",
            "\n",
            "Based on the above battery data summary, select the most appropriate charging event label from these options: 'normal_charging', 'fast_charging', 'anomalous_charging', or 'fault_condition'. If the data does not provide sufficient clues, respond with 'insufficient_data'. Respond ONLY with the label in plain text.\n"
          ]
        }
      ]
    },
    {
      "cell_type": "markdown",
      "source": [
        "Define the AutoGenAgent"
      ],
      "metadata": {
        "id": "G2teriRebdJo"
      }
    },
    {
      "cell_type": "code",
      "source": [
        "import time\n",
        "\n",
        "class BaseAgent:\n",
        "    def auto_label(self, prompt: str) -> str:\n",
        "        raise NotImplementedError(\"Subclasses must implement auto_label()\")\n",
        "\n",
        "class GPT4AgentBase(BaseAgent):\n",
        "    def auto_label(self, prompt: str) -> (str, int, float):\n",
        "        start = time.time()\n",
        "        try:\n",
        "            response = openai.ChatCompletion.create(\n",
        "                model=\"gpt-4\",\n",
        "                messages=[{\"role\": \"user\", \"content\": prompt}],\n",
        "                max_tokens=50,\n",
        "                temperature=0.0\n",
        "            )\n",
        "            elapsed = time.time() - start\n",
        "            token_usage = response.get(\"usage\", {}).get(\"total_tokens\", 0)\n",
        "            label = response.choices[0].message.content.strip()\n",
        "            return label, token_usage, elapsed\n",
        "        except Exception as e:\n",
        "            elapsed = time.time() - start\n",
        "            print(\"Error in GPT4AgentBase:\", e)\n",
        "            return \"Fallback label: Unknown activity\", 0, elapsed\n",
        "\n",
        "class AutoGenAgent(GPT4AgentBase):\n",
        "    def auto_label(self, prompt: str) -> (str, int, float):\n",
        "        modified_prompt = \"AutoGen Approach: \" + prompt\n",
        "        return super().auto_label(modified_prompt)"
      ],
      "metadata": {
        "id": "Kf3JQAaKbdw2"
      },
      "execution_count": 6,
      "outputs": []
    },
    {
      "cell_type": "markdown",
      "source": [
        "Run Auto-Labeling on the Battery Data (Entire Dataset)"
      ],
      "metadata": {
        "id": "fzJ1H-jCbiUi"
      }
    },
    {
      "cell_type": "code",
      "source": [
        "def run_auto_labeling_battery(file_path=data_file_path):\n",
        "    df = load_data(file_path)\n",
        "    prompt = create_prompt_for_battery_data(df)\n",
        "    agent = AutoGenAgent()\n",
        "    label, tokens, elapsed = agent.auto_label(prompt)\n",
        "    print(f\"Auto-labeling completed in {elapsed:.2f} seconds, token usage: {tokens}\")\n",
        "    return label\n",
        "\n",
        "battery_auto_label_result = run_auto_labeling_battery()\n",
        "print(\"Battery Auto Label Result:\", battery_auto_label_result)"
      ],
      "metadata": {
        "colab": {
          "base_uri": "https://localhost:8080/"
        },
        "id": "LaFUE4_vbjAZ",
        "outputId": "9349cdc7-b81a-46d5-d494-f4f1dc1282bb"
      },
      "execution_count": 7,
      "outputs": [
        {
          "output_type": "stream",
          "name": "stdout",
          "text": [
            "Loading data from /content/drive/MyDrive/AIPM/battery-charging-data/cleandata/combined_battery_data.csv...\n",
            "Data loaded successfully. Shape: (23176965, 11)\n",
            "Columns in the dataframe: ['Unnamed: 0', 'record_time', 'soc', 'pack_voltage (V)', 'charge_current (A)', 'max_cell_voltage (V)', 'min_cell_voltage (V)', 'max_temperature (℃)', 'min_temperature (℃)', 'available_energy (kw)', 'available_capacity (Ah)']\n",
            "Auto-labeling completed in 0.92 seconds, token usage: 1002\n",
            "Battery Auto Label Result: insufficient_data\n"
          ]
        }
      ]
    },
    {
      "cell_type": "code",
      "source": [],
      "metadata": {
        "id": "y_IVuK17ltwx"
      },
      "execution_count": null,
      "outputs": []
    },
    {
      "cell_type": "markdown",
      "source": [
        "Visualization of Battery Data"
      ],
      "metadata": {
        "id": "GTBSmwlUbk-5"
      }
    },
    {
      "cell_type": "code",
      "source": [
        "import matplotlib.pyplot as plt\n",
        "\n",
        "def get_column_name(df, variants):\n",
        "    for col in variants:\n",
        "        if col in df.columns:\n",
        "            return col\n",
        "    return None\n",
        "\n",
        "timestamp_col = get_column_name(df, ['record_time', 'timestamp', 'time', 'Time'])\n",
        "voltage_col = get_column_name(df, ['pack_voltage (V)', 'voltage', 'battery_voltage', 'Voltage'])\n",
        "soc_col = get_column_name(df, ['soc', 'state_of_charge', 'SOC'])\n",
        "\n",
        "import matplotlib.pyplot as plt\n",
        "import numpy as np\n",
        "\n",
        "plt.figure(figsize=(12, 6))\n",
        "if timestamp_col and voltage_col:\n",
        "    plt.scatter(df[timestamp_col], df[voltage_col],\n",
        "                c=df[soc_col] if soc_col and soc_col in df.columns else np.zeros(len(df)), cmap='viridis')\n",
        "    plt.xlabel(\"Timestamp\")\n",
        "    plt.ylabel(\"Voltage\")\n",
        "    plt.title(\"Battery Voltage Over Time (colored by State of Charge)\")\n",
        "    plt.colorbar(label=\"State of Charge\")\n",
        "    plt.tight_layout()\n",
        "    plt.show()\n",
        "else:\n",
        "    print(\"Required columns for visualization not found.\")"
      ],
      "metadata": {
        "colab": {
          "base_uri": "https://localhost:8080/",
          "height": 608
        },
        "id": "5G4g-utSbm6M",
        "outputId": "eb77e1d3-38c7-453d-e449-c49259338cbd"
      },
      "execution_count": 8,
      "outputs": [
        {
          "output_type": "display_data",
          "data": {
            "text/plain": [
              "<Figure size 1200x600 with 2 Axes>"
            ],
            "image/png": "[encoded data removed]"
          },
          "metadata": {}
        }
      ]
    },
    {
      "cell_type": "markdown",
      "source": [],
      "metadata": {
        "id": "MiYhjcY3lykZ"
      }
    },
    {
      "cell_type": "code",
      "source": [],
      "metadata": {
        "id": "Eo-_A3QzlyYX"
      },
      "execution_count": null,
      "outputs": []
    },
    {
      "cell_type": "code",
      "source": [
        "!pip install --upgrade numpy\n",
        "!pip install --upgrade scipy\n",
        "import numpy\n",
        "import scipy\n",
        "print(numpy.__version__)\n",
        "print(scipy.__version__)\n"
      ],
      "metadata": {
        "colab": {
          "base_uri": "https://localhost:8080/"
        },
        "id": "7nHQB0c9lyPY",
        "outputId": "29abc669-935c-4bb3-ae76-d309a1773e2b"
      },
      "execution_count": null,
      "outputs": [
        {
          "output_type": "stream",
          "name": "stdout",
          "text": [
            "Requirement already satisfied: numpy in /usr/local/lib/python3.11/dist-packages (2.2.4)\n",
            "Requirement already satisfied: scipy in /usr/local/lib/python3.11/dist-packages (1.14.1)\n",
            "Collecting scipy\n",
            "  Downloading scipy-1.15.2-cp311-cp311-manylinux_2_17_x86_64.manylinux2014_x86_64.whl.metadata (61 kB)\n",
            "\u001b[2K     \u001b[90m━━━━━━━━━━━━━━━━━━━━━━━━━━━━━━━━━━━━━━━━\u001b[0m \u001b[32m62.0/62.0 kB\u001b[0m \u001b[31m1.4 MB/s\u001b[0m eta \u001b[36m0:00:00\u001b[0m\n",
            "\u001b[?25hRequirement already satisfied: numpy<2.5,>=1.23.5 in /usr/local/lib/python3.11/dist-packages (from scipy) (2.2.4)\n",
            "Downloading scipy-1.15.2-cp311-cp311-manylinux_2_17_x86_64.manylinux2014_x86_64.whl (37.6 MB)\n",
            "\u001b[2K   \u001b[90m━━━━━━━━━━━━━━━━━━━━━━━━━━━━━━━━━━━━━━━━\u001b[0m \u001b[32m37.6/37.6 MB\u001b[0m \u001b[31m17.4 MB/s\u001b[0m eta \u001b[36m0:00:00\u001b[0m\n",
            "\u001b[?25hInstalling collected packages: scipy\n",
            "  Attempting uninstall: scipy\n",
            "    Found existing installation: scipy 1.14.1\n",
            "    Uninstalling scipy-1.14.1:\n",
            "      Successfully uninstalled scipy-1.14.1\n",
            "Successfully installed scipy-1.15.2\n",
            "2.0.2\n",
            "1.14.1\n"
          ]
        }
      ]
    },
    {
      "cell_type": "code",
      "source": [
        "import numpy as np\n",
        "import pandas as pd\n",
        "import matplotlib.pyplot as plt\n",
        "import scipy.io as scio\n",
        "import os\n",
        "import shutil\n",
        "from scipy.integrate import trapz\n",
        "from scipy import interpolate\n",
        "import datetime as dt\n",
        "import csv\n",
        "import zipfile\n",
        "import seaborn as sns\n",
        "import copy\n",
        "import pyGPs\n",
        "from sklearn.svm import SVR\n",
        "from datetime import datetime\n",
        "from natsort import ns, natsorted\n",
        "# In[ Extract capacity and charging data]\n",
        "def find_samples_in_file(file):\n",
        "    cha = file\n",
        "    cha.reset_index(drop=True, inplace=True)\n",
        "    cha_time = []\n",
        "    for i in range(len(cha)):\n",
        "        cha_time.append(str(cha['record_time'][i]))\n",
        "    cha_time = pd.to_datetime(np.array(cha_time))\n",
        "    cha_time = pd.DataFrame(cha_time)\n",
        "\n",
        "    aaa = cha_time.iloc[1:]\n",
        "    aaa.reset_index(drop=True, inplace=True)\n",
        "    bbb = cha_time.iloc[:-1]\n",
        "    bbb.reset_index(drop=True, inplace=True)\n",
        "    time_delta = (aaa - bbb)\n",
        "    interval = dt.timedelta(seconds=10)\n",
        "\n",
        "    rest_index = []\n",
        "    for i in range(len(time_delta)):\n",
        "        # i = 1\n",
        "        if time_delta.iloc[i,0] > interval:\n",
        "            rest_index.append(i)\n",
        "\n",
        "    cha_list = []\n",
        "    cha_list.append(cha.iloc[:rest_index[0]])\n",
        "    for i in range(len(rest_index)-1):\n",
        "        cha_cut = cha.iloc[rest_index[i]+1:rest_index[i+1]]\n",
        "        cha_list.append(cha_cut)\n",
        "    cha_list.append(cha.iloc[rest_index[-1]+1:])\n",
        "\n",
        "    Ca_list = []\n",
        "    cha_list_out = []\n",
        "    for j in range(len(cha_list)):\n",
        "        # j = 10\n",
        "        cha_cut = cha_list[j]\n",
        "        cha_cut.reset_index(drop=True, inplace=True)\n",
        "        if len(cha_cut)<100:\n",
        "            continue\n",
        "        dif_soc = cha_cut['soc'][1:] - cha_cut['soc'][:-1]\n",
        "        if np.sum(dif_soc>2) or np.sum(dif_soc<-0.1):\n",
        "            continue\n",
        "        time = []\n",
        "        for i in range(len(cha_cut)):\n",
        "            # i = 1\n",
        "            time.append(str(cha_cut['record_time'][i]))\n",
        "        time = np.array(time)\n",
        "        time = pd.to_datetime(time)\n",
        "\n",
        "        current = cha_cut['charge_current']\n",
        "        soc = cha_cut['soc']\n",
        "        Tmax= np.mean(cha_cut['max_temperature'])\n",
        "        Tmin= np.mean(cha_cut['min_temperature'])\n",
        "        # tem = cha_cut['vehoutsidetemp']\n",
        "        label_Ca = real_capacity_cal(time,current,soc)\n",
        "        if label_Ca==0:\n",
        "            continue\n",
        "        Ca_list.append([time[0],time[len(time)-1],soc[0],soc[len(time)-1],label_Ca,Tmax,Tmin])\n",
        "        cha_list_out.append(cha_cut)\n",
        "\n",
        "    return Ca_list,cha_list_out\n",
        "def real_capacity_cal(time_data,current,SOC_data):\n",
        "    if np.sum(np.isnan(current.tolist()))>len(current)*0.1:\n",
        "        return []\n",
        "    if np.sum(np.isnan(current.tolist())):\n",
        "        for n in range(len(current)):\n",
        "            if np.isnan(current[n]):\n",
        "                current[n]=current[n-1]\n",
        "    time_sec=np.zeros(len(current))\n",
        "    for j in range(len(current)):\n",
        "        time_temp = time_data[j] - time_data[0]\n",
        "        time_sec[j]=time_temp.total_seconds()\n",
        "    accumulated_Q=trapz(current,time_sec)/3600*(-1)\n",
        "    delta_SOC=SOC_data[len(SOC_data)-1]-SOC_data[0]\n",
        "    if delta_SOC==0:\n",
        "        return 0\n",
        "    label_Ca = accumulated_Q/delta_SOC*100\n",
        "    return label_Ca\n",
        "def func(file_path):\n",
        "    src_path = file_path\n",
        "    file = pd.read_csv(src_path)\n",
        "    file.columns = ['number','record_time','soc','pack_voltage','charge_current','max_cell_voltage',\n",
        "                    'min_cell_voltage','max_temperature','min_temperature','available_energy','available_capacity']\n",
        "    file = file.sort_values(by='record_time')\n",
        "    file.reset_index(drop=True, inplace=True)\n",
        "    # file=file.dropna(axis=0,how='any') #exclude 'nan' data\n",
        "    ca_list,cha_data_list = find_samples_in_file(file)\n",
        "    return ca_list,cha_data_list #return Ca and charging data for every vehicle\n",
        "if __name__ == '__main__':\n",
        "    main_path='..\\\\vehicles\\\\'\n",
        "    dird=os.listdir(main_path)\n",
        "    dird=natsorted(dird,alg=ns.PATH)\n",
        "    data_list=[]\n",
        "    for veh in range(len(dird)):\n",
        "    # for veh in range(1):\n",
        "        try:\n",
        "            print(veh,' vehicle_num:',dird[veh])\n",
        "            file_path = main_path+dird[veh]\n",
        "            data_list.append(func(file_path))\n",
        "        except:\n",
        "            print(veh,' ',dird[veh],'error')\n",
        "# In[ Plot Capacity curves ]\n",
        "from matplotlib import rcParams\n",
        "params={'font.family':'serif',\n",
        "        'font.serif':'Times New Roman',\n",
        "        'font.style':'normal',\n",
        "        'font.weight':'normal', #or 'blod'\n",
        "        'font.size':12,#or large,small\n",
        "        }\n",
        "rcParams.update(params)\n",
        "plt.figure(figsize=(16,16),dpi=600)\n",
        "plt.subplots_adjust(left=None, bottom=None, right=None, top=None,\n",
        "        wspace=0.30, hspace=0.45)\n",
        "for j in range(len(data_list)):\n",
        "    veh_data = data_list[j]\n",
        "    ca_list = veh_data[0]\n",
        "    cha_list = veh_data[1]\n",
        "    veh_df = pd.DataFrame(data=ca_list,columns=['time_s','time_e','SOC_s','SOC_e','charge_capacity','Tmax','Tmin'])\n",
        "    plt.subplot(4,5,j+1)\n",
        "    plt.plot(veh_df.iloc[:,0],veh_df.iloc[:,4],'o')\n",
        "    plt.ylabel('Capacity (Ah)')\n",
        "    plt.xlabel('Date')\n",
        "    plt.ylim([90,150])\n",
        "    plt.title('#'+str(j+1),x=0.1,y=0.1)\n",
        "    plt.xticks(rotation=90)\n",
        "plt.show()\n",
        "# In[ Plot Capacity curves after stastical analysis]\n",
        "from datetime import datetime\n",
        "plt.figure(figsize=(16,16),dpi=600)\n",
        "plt.subplots_adjust(left=None, bottom=None, right=None, top=None,\n",
        "    wspace=0.30, hspace=0.45)\n",
        "for j in range(len(data_list)):\n",
        "    veh_data = data_list[j]\n",
        "    ca_list = veh_data[0]\n",
        "    cha_list = veh_data[1]\n",
        "    veh_df = pd.DataFrame(data=ca_list,columns=['time_s','time_e','SOC_s','SOC_e','charge_capacity','Tmax','Tmin'])\n",
        "    veh_df.reset_index(drop=True, inplace=True)\n",
        "    cnt=0\n",
        "    time_index=[]\n",
        "    time_index.append(veh_df.time_e[0])\n",
        "    veh_name=cha_list[0].values[0,0]\n",
        "    veh_df.reset_index(drop=True, inplace=True)\n",
        "    cnt=0\n",
        "    time_index=[]\n",
        "    time_index.append(veh_df.time_e[0])\n",
        "    ca_month=[]\n",
        "    ca_temp=[]\n",
        "    for i in range(len(veh_df)):\n",
        "        if(veh_df.time_e[i].year==time_index[cnt].year)and(veh_df.time_e[i].month==time_index[cnt].month):\n",
        "            ca_temp.append(veh_df.charge_capacity[i])\n",
        "        else:\n",
        "            ca_month.append(ca_temp)\n",
        "            cnt=cnt+1\n",
        "            time_index.append(veh_df.time_e[i])\n",
        "            ca_temp=[]\n",
        "            ca_temp.append(veh_df.charge_capacity[i])\n",
        "    ca_month.append(ca_temp)\n",
        "    print(j)\n",
        "    veh_ca1 = [np.mean(p) for p in ca_month]\n",
        "    veh_ca2 = [np.median(p) for p in ca_month]\n",
        "    plt.subplot(4,5,j+1)\n",
        "    plt.plot(time_index,veh_ca1)\n",
        "    plt.plot(time_index,veh_ca2,'-.')\n",
        "    # plt.title(dird[i].split('M')[-1])\n",
        "    plt.title('#'+str(j+1),x=0.1,y=0.1)\n",
        "    plt.xticks(rotation=90)\n",
        "    plt.yticks(np.arange(110,135,6))\n",
        "    plt.ylabel('Capacity (Ah)')\n",
        "    plt.xlabel('Date')\n",
        "    plt.legend(['Mean','Median'],loc=1)\n",
        "plt.show()"
      ],
      "metadata": {
        "colab": {
          "base_uri": "https://localhost:8080/",
          "height": 530
        },
        "id": "AHoBlbZjlyFp",
        "outputId": "06b448ac-a421-4e30-a47f-9bb24ad3746d"
      },
      "execution_count": null,
      "outputs": [
        {
          "output_type": "error",
          "ename": "ImportError",
          "evalue": "cannot import name '_center' from 'numpy._core.umath' (/usr/local/lib/python3.11/dist-packages/numpy/_core/umath.py)",
          "traceback": [
            "\u001b[0;31m---------------------------------------------------------------------------\u001b[0m",
            "\u001b[0;31mImportError\u001b[0m                               Traceback (most recent call last)",
            "\u001b[0;32m<ipython-input-20-f6eb2763b026>\u001b[0m in \u001b[0;36m<cell line: 0>\u001b[0;34m()\u001b[0m\n\u001b[1;32m      2\u001b[0m \u001b[0;32mimport\u001b[0m \u001b[0mpandas\u001b[0m \u001b[0;32mas\u001b[0m \u001b[0mpd\u001b[0m\u001b[0;34m\u001b[0m\u001b[0;34m\u001b[0m\u001b[0m\n\u001b[1;32m      3\u001b[0m \u001b[0;32mimport\u001b[0m \u001b[0mmatplotlib\u001b[0m\u001b[0;34m.\u001b[0m\u001b[0mpyplot\u001b[0m \u001b[0;32mas\u001b[0m \u001b[0mplt\u001b[0m\u001b[0;34m\u001b[0m\u001b[0;34m\u001b[0m\u001b[0m\n\u001b[0;32m----> 4\u001b[0;31m \u001b[0;32mimport\u001b[0m \u001b[0mscipy\u001b[0m\u001b[0;34m.\u001b[0m\u001b[0mio\u001b[0m \u001b[0;32mas\u001b[0m \u001b[0mscio\u001b[0m\u001b[0;34m\u001b[0m\u001b[0;34m\u001b[0m\u001b[0m\n\u001b[0m\u001b[1;32m      5\u001b[0m \u001b[0;32mimport\u001b[0m \u001b[0mos\u001b[0m\u001b[0;34m\u001b[0m\u001b[0;34m\u001b[0m\u001b[0m\n\u001b[1;32m      6\u001b[0m \u001b[0;32mimport\u001b[0m \u001b[0mshutil\u001b[0m\u001b[0;34m\u001b[0m\u001b[0;34m\u001b[0m\u001b[0m\n",
            "\u001b[0;32m/usr/local/lib/python3.11/dist-packages/scipy/io/__init__.py\u001b[0m in \u001b[0;36m<module>\u001b[0;34m\u001b[0m\n\u001b[1;32m     95\u001b[0m \"\"\"\n\u001b[1;32m     96\u001b[0m \u001b[0;31m# matfile read and write\u001b[0m\u001b[0;34m\u001b[0m\u001b[0;34m\u001b[0m\u001b[0m\n\u001b[0;32m---> 97\u001b[0;31m \u001b[0;32mfrom\u001b[0m \u001b[0;34m.\u001b[0m\u001b[0mmatlab\u001b[0m \u001b[0;32mimport\u001b[0m \u001b[0mloadmat\u001b[0m\u001b[0;34m,\u001b[0m \u001b[0msavemat\u001b[0m\u001b[0;34m,\u001b[0m \u001b[0mwhosmat\u001b[0m\u001b[0;34m\u001b[0m\u001b[0;34m\u001b[0m\u001b[0m\n\u001b[0m\u001b[1;32m     98\u001b[0m \u001b[0;34m\u001b[0m\u001b[0m\n\u001b[1;32m     99\u001b[0m \u001b[0;31m# netCDF file support\u001b[0m\u001b[0;34m\u001b[0m\u001b[0;34m\u001b[0m\u001b[0m\n",
            "\u001b[0;32m/usr/local/lib/python3.11/dist-packages/scipy/io/matlab/__init__.py\u001b[0m in \u001b[0;36m<module>\u001b[0;34m\u001b[0m\n\u001b[1;32m     44\u001b[0m \"\"\"\n\u001b[1;32m     45\u001b[0m \u001b[0;31m# Matlab file read and write utilities\u001b[0m\u001b[0;34m\u001b[0m\u001b[0;34m\u001b[0m\u001b[0m\n\u001b[0;32m---> 46\u001b[0;31m \u001b[0;32mfrom\u001b[0m \u001b[0;34m.\u001b[0m\u001b[0m_mio\u001b[0m \u001b[0;32mimport\u001b[0m \u001b[0mloadmat\u001b[0m\u001b[0;34m,\u001b[0m \u001b[0msavemat\u001b[0m\u001b[0;34m,\u001b[0m \u001b[0mwhosmat\u001b[0m\u001b[0;34m\u001b[0m\u001b[0;34m\u001b[0m\u001b[0m\n\u001b[0m\u001b[1;32m     47\u001b[0m \u001b[0;32mfrom\u001b[0m \u001b[0;34m.\u001b[0m\u001b[0m_mio5\u001b[0m \u001b[0;32mimport\u001b[0m \u001b[0mMatlabFunction\u001b[0m\u001b[0;34m,\u001b[0m \u001b[0mvarmats_from_mat\u001b[0m\u001b[0;34m\u001b[0m\u001b[0;34m\u001b[0m\u001b[0m\n\u001b[1;32m     48\u001b[0m \u001b[0;32mfrom\u001b[0m \u001b[0;34m.\u001b[0m\u001b[0m_mio5_params\u001b[0m \u001b[0;32mimport\u001b[0m \u001b[0mMatlabObject\u001b[0m\u001b[0;34m,\u001b[0m \u001b[0mMatlabOpaque\u001b[0m\u001b[0;34m,\u001b[0m \u001b[0mmat_struct\u001b[0m\u001b[0;34m\u001b[0m\u001b[0;34m\u001b[0m\u001b[0m\n",
            "\u001b[0;32m/usr/local/lib/python3.11/dist-packages/scipy/io/matlab/_mio.py\u001b[0m in \u001b[0;36m<module>\u001b[0;34m\u001b[0m\n\u001b[1;32m      7\u001b[0m \u001b[0;34m\u001b[0m\u001b[0m\n\u001b[1;32m      8\u001b[0m \u001b[0;32mfrom\u001b[0m \u001b[0;34m.\u001b[0m\u001b[0m_miobase\u001b[0m \u001b[0;32mimport\u001b[0m \u001b[0m_get_matfile_version\u001b[0m\u001b[0;34m,\u001b[0m \u001b[0mdocfiller\u001b[0m\u001b[0;34m\u001b[0m\u001b[0;34m\u001b[0m\u001b[0m\n\u001b[0;32m----> 9\u001b[0;31m \u001b[0;32mfrom\u001b[0m \u001b[0;34m.\u001b[0m\u001b[0m_mio4\u001b[0m \u001b[0;32mimport\u001b[0m \u001b[0mMatFile4Reader\u001b[0m\u001b[0;34m,\u001b[0m \u001b[0mMatFile4Writer\u001b[0m\u001b[0;34m\u001b[0m\u001b[0;34m\u001b[0m\u001b[0m\n\u001b[0m\u001b[1;32m     10\u001b[0m \u001b[0;32mfrom\u001b[0m \u001b[0;34m.\u001b[0m\u001b[0m_mio5\u001b[0m \u001b[0;32mimport\u001b[0m \u001b[0mMatFile5Reader\u001b[0m\u001b[0;34m,\u001b[0m \u001b[0mMatFile5Writer\u001b[0m\u001b[0;34m\u001b[0m\u001b[0;34m\u001b[0m\u001b[0m\n\u001b[1;32m     11\u001b[0m \u001b[0;34m\u001b[0m\u001b[0m\n",
            "\u001b[0;32m/usr/local/lib/python3.11/dist-packages/scipy/io/matlab/_mio4.py\u001b[0m in \u001b[0;36m<module>\u001b[0;34m\u001b[0m\n\u001b[1;32m      8\u001b[0m \u001b[0;32mimport\u001b[0m \u001b[0mnumpy\u001b[0m \u001b[0;32mas\u001b[0m \u001b[0mnp\u001b[0m\u001b[0;34m\u001b[0m\u001b[0;34m\u001b[0m\u001b[0m\n\u001b[1;32m      9\u001b[0m \u001b[0;34m\u001b[0m\u001b[0m\n\u001b[0;32m---> 10\u001b[0;31m \u001b[0;32mimport\u001b[0m \u001b[0mscipy\u001b[0m\u001b[0;34m.\u001b[0m\u001b[0msparse\u001b[0m\u001b[0;34m\u001b[0m\u001b[0;34m\u001b[0m\u001b[0m\n\u001b[0m\u001b[1;32m     11\u001b[0m \u001b[0;34m\u001b[0m\u001b[0m\n\u001b[1;32m     12\u001b[0m from ._miobase import (MatFileReader, docfiller, matdims, read_dtype,\n",
            "\u001b[0;32m/usr/local/lib/python3.11/dist-packages/scipy/sparse/__init__.py\u001b[0m in \u001b[0;36m<module>\u001b[0;34m\u001b[0m\n\u001b[1;32m    298\u001b[0m \u001b[0;32mimport\u001b[0m \u001b[0mwarnings\u001b[0m \u001b[0;32mas\u001b[0m \u001b[0m_warnings\u001b[0m\u001b[0;34m\u001b[0m\u001b[0;34m\u001b[0m\u001b[0m\n\u001b[1;32m    299\u001b[0m \u001b[0;34m\u001b[0m\u001b[0m\n\u001b[0;32m--> 300\u001b[0;31m \u001b[0;32mfrom\u001b[0m \u001b[0;34m.\u001b[0m\u001b[0m_base\u001b[0m \u001b[0;32mimport\u001b[0m \u001b[0;34m*\u001b[0m\u001b[0;34m\u001b[0m\u001b[0;34m\u001b[0m\u001b[0m\n\u001b[0m\u001b[1;32m    301\u001b[0m \u001b[0;32mfrom\u001b[0m \u001b[0;34m.\u001b[0m\u001b[0m_csr\u001b[0m \u001b[0;32mimport\u001b[0m \u001b[0;34m*\u001b[0m\u001b[0;34m\u001b[0m\u001b[0;34m\u001b[0m\u001b[0m\n\u001b[1;32m    302\u001b[0m \u001b[0;32mfrom\u001b[0m \u001b[0;34m.\u001b[0m\u001b[0m_csc\u001b[0m \u001b[0;32mimport\u001b[0m \u001b[0;34m*\u001b[0m\u001b[0;34m\u001b[0m\u001b[0;34m\u001b[0m\u001b[0m\n",
            "\u001b[0;32m/usr/local/lib/python3.11/dist-packages/scipy/sparse/_base.py\u001b[0m in \u001b[0;36m<module>\u001b[0;34m\u001b[0m\n\u001b[1;32m      3\u001b[0m \u001b[0;32mimport\u001b[0m \u001b[0mnumpy\u001b[0m \u001b[0;32mas\u001b[0m \u001b[0mnp\u001b[0m\u001b[0;34m\u001b[0m\u001b[0;34m\u001b[0m\u001b[0m\n\u001b[1;32m      4\u001b[0m \u001b[0;34m\u001b[0m\u001b[0m\n\u001b[0;32m----> 5\u001b[0;31m from ._sputils import (asmatrix, check_reshape_kwargs, check_shape,\n\u001b[0m\u001b[1;32m      6\u001b[0m                        \u001b[0mget_sum_dtype\u001b[0m\u001b[0;34m,\u001b[0m \u001b[0misdense\u001b[0m\u001b[0;34m,\u001b[0m \u001b[0misscalarlike\u001b[0m\u001b[0;34m,\u001b[0m\u001b[0;34m\u001b[0m\u001b[0;34m\u001b[0m\u001b[0m\n\u001b[1;32m      7\u001b[0m                        matrix, validateaxis, getdtype)\n",
            "\u001b[0;32m/usr/local/lib/python3.11/dist-packages/scipy/sparse/_sputils.py\u001b[0m in \u001b[0;36m<module>\u001b[0;34m\u001b[0m\n\u001b[1;32m      8\u001b[0m \u001b[0;32mfrom\u001b[0m \u001b[0mmath\u001b[0m \u001b[0;32mimport\u001b[0m \u001b[0mprod\u001b[0m\u001b[0;34m\u001b[0m\u001b[0;34m\u001b[0m\u001b[0m\n\u001b[1;32m      9\u001b[0m \u001b[0;32mimport\u001b[0m \u001b[0mscipy\u001b[0m\u001b[0;34m.\u001b[0m\u001b[0msparse\u001b[0m \u001b[0;32mas\u001b[0m \u001b[0msp\u001b[0m\u001b[0;34m\u001b[0m\u001b[0;34m\u001b[0m\u001b[0m\n\u001b[0;32m---> 10\u001b[0;31m \u001b[0;32mfrom\u001b[0m \u001b[0mscipy\u001b[0m\u001b[0;34m.\u001b[0m\u001b[0m_lib\u001b[0m\u001b[0;34m.\u001b[0m\u001b[0m_util\u001b[0m \u001b[0;32mimport\u001b[0m \u001b[0mnp_long\u001b[0m\u001b[0;34m,\u001b[0m \u001b[0mnp_ulong\u001b[0m\u001b[0;34m\u001b[0m\u001b[0;34m\u001b[0m\u001b[0m\n\u001b[0m\u001b[1;32m     11\u001b[0m \u001b[0;34m\u001b[0m\u001b[0m\n\u001b[1;32m     12\u001b[0m \u001b[0;34m\u001b[0m\u001b[0m\n",
            "\u001b[0;32m/usr/local/lib/python3.11/dist-packages/scipy/_lib/_util.py\u001b[0m in \u001b[0;36m<module>\u001b[0;34m\u001b[0m\n\u001b[1;32m     11\u001b[0m \u001b[0;34m\u001b[0m\u001b[0m\n\u001b[1;32m     12\u001b[0m \u001b[0;32mimport\u001b[0m \u001b[0mnumpy\u001b[0m \u001b[0;32mas\u001b[0m \u001b[0mnp\u001b[0m\u001b[0;34m\u001b[0m\u001b[0;34m\u001b[0m\u001b[0m\n\u001b[0;32m---> 13\u001b[0;31m \u001b[0;32mfrom\u001b[0m \u001b[0mscipy\u001b[0m\u001b[0;34m.\u001b[0m\u001b[0m_lib\u001b[0m\u001b[0;34m.\u001b[0m\u001b[0m_array_api\u001b[0m \u001b[0;32mimport\u001b[0m \u001b[0marray_namespace\u001b[0m\u001b[0;34m,\u001b[0m \u001b[0mis_numpy\u001b[0m\u001b[0;34m,\u001b[0m \u001b[0mxp_size\u001b[0m\u001b[0;34m\u001b[0m\u001b[0;34m\u001b[0m\u001b[0m\n\u001b[0m\u001b[1;32m     14\u001b[0m \u001b[0;32mfrom\u001b[0m \u001b[0mscipy\u001b[0m\u001b[0;34m.\u001b[0m\u001b[0m_lib\u001b[0m\u001b[0;34m.\u001b[0m\u001b[0m_docscrape\u001b[0m \u001b[0;32mimport\u001b[0m \u001b[0mFunctionDoc\u001b[0m\u001b[0;34m,\u001b[0m \u001b[0mParameter\u001b[0m\u001b[0;34m\u001b[0m\u001b[0;34m\u001b[0m\u001b[0m\n\u001b[1;32m     15\u001b[0m \u001b[0;34m\u001b[0m\u001b[0m\n",
            "\u001b[0;32m/usr/local/lib/python3.11/dist-packages/scipy/_lib/_array_api.py\u001b[0m in \u001b[0;36m<module>\u001b[0;34m\u001b[0m\n\u001b[1;32m     16\u001b[0m \u001b[0;34m\u001b[0m\u001b[0m\n\u001b[1;32m     17\u001b[0m \u001b[0;32mfrom\u001b[0m \u001b[0mscipy\u001b[0m\u001b[0;34m.\u001b[0m\u001b[0m_lib\u001b[0m \u001b[0;32mimport\u001b[0m \u001b[0marray_api_compat\u001b[0m\u001b[0;34m\u001b[0m\u001b[0;34m\u001b[0m\u001b[0m\n\u001b[0;32m---> 18\u001b[0;31m from scipy._lib.array_api_compat import (\n\u001b[0m\u001b[1;32m     19\u001b[0m     \u001b[0mis_array_api_obj\u001b[0m\u001b[0;34m,\u001b[0m\u001b[0;34m\u001b[0m\u001b[0;34m\u001b[0m\u001b[0m\n\u001b[1;32m     20\u001b[0m     \u001b[0msize\u001b[0m \u001b[0;32mas\u001b[0m \u001b[0mxp_size\u001b[0m\u001b[0;34m,\u001b[0m\u001b[0;34m\u001b[0m\u001b[0;34m\u001b[0m\u001b[0m\n",
            "\u001b[0;32m/usr/local/lib/python3.11/dist-packages/scipy/_lib/array_api_compat/numpy/__init__.py\u001b[0m in \u001b[0;36m<module>\u001b[0;34m\u001b[0m\n\u001b[0;32m----> 1\u001b[0;31m \u001b[0;32mfrom\u001b[0m \u001b[0mnumpy\u001b[0m \u001b[0;32mimport\u001b[0m \u001b[0;34m*\u001b[0m \u001b[0;31m# noqa: F403\u001b[0m\u001b[0;34m\u001b[0m\u001b[0;34m\u001b[0m\u001b[0m\n\u001b[0m\u001b[1;32m      2\u001b[0m \u001b[0;34m\u001b[0m\u001b[0m\n\u001b[1;32m      3\u001b[0m \u001b[0;31m# from numpy import * doesn't overwrite these builtin names\u001b[0m\u001b[0;34m\u001b[0m\u001b[0;34m\u001b[0m\u001b[0m\n\u001b[1;32m      4\u001b[0m \u001b[0;32mfrom\u001b[0m \u001b[0mnumpy\u001b[0m \u001b[0;32mimport\u001b[0m \u001b[0mabs\u001b[0m\u001b[0;34m,\u001b[0m \u001b[0mmax\u001b[0m\u001b[0;34m,\u001b[0m \u001b[0mmin\u001b[0m\u001b[0;34m,\u001b[0m \u001b[0mround\u001b[0m \u001b[0;31m# noqa: F401\u001b[0m\u001b[0;34m\u001b[0m\u001b[0;34m\u001b[0m\u001b[0m\n\u001b[1;32m      5\u001b[0m \u001b[0;34m\u001b[0m\u001b[0m\n",
            "\u001b[0;32m/usr/local/lib/python3.11/dist-packages/numpy/__init__.py\u001b[0m in \u001b[0;36m__getattr__\u001b[0;34m(attr)\u001b[0m\n\u001b[1;32m    374\u001b[0m                                  \"numpy 2.0 onwards\", name=None)\n\u001b[1;32m    375\u001b[0m         \u001b[0;32melif\u001b[0m \u001b[0mattr\u001b[0m \u001b[0;34m==\u001b[0m \u001b[0;34m\"core\"\u001b[0m\u001b[0;34m:\u001b[0m\u001b[0;34m\u001b[0m\u001b[0;34m\u001b[0m\u001b[0m\n\u001b[0;32m--> 376\u001b[0;31m             \u001b[0;32mimport\u001b[0m \u001b[0mnumpy\u001b[0m\u001b[0;34m.\u001b[0m\u001b[0mcore\u001b[0m \u001b[0;32mas\u001b[0m \u001b[0mcore\u001b[0m\u001b[0;34m\u001b[0m\u001b[0;34m\u001b[0m\u001b[0m\n\u001b[0m\u001b[1;32m    377\u001b[0m             \u001b[0;32mreturn\u001b[0m \u001b[0mcore\u001b[0m\u001b[0;34m\u001b[0m\u001b[0;34m\u001b[0m\u001b[0m\n\u001b[1;32m    378\u001b[0m         \u001b[0;32melif\u001b[0m \u001b[0mattr\u001b[0m \u001b[0;34m==\u001b[0m \u001b[0;34m\"strings\"\u001b[0m\u001b[0;34m:\u001b[0m\u001b[0;34m\u001b[0m\u001b[0;34m\u001b[0m\u001b[0m\n",
            "\u001b[0;32m/usr/local/lib/python3.11/dist-packages/numpy/strings/__init__.py\u001b[0m in \u001b[0;36m<module>\u001b[0;34m\u001b[0m\n\u001b[0;32m----> 1\u001b[0;31m \u001b[0;32mfrom\u001b[0m \u001b[0mnumpy\u001b[0m\u001b[0;34m.\u001b[0m\u001b[0m_core\u001b[0m\u001b[0;34m.\u001b[0m\u001b[0mstrings\u001b[0m \u001b[0;32mimport\u001b[0m \u001b[0m__all__\u001b[0m\u001b[0;34m,\u001b[0m \u001b[0m__doc__\u001b[0m\u001b[0;34m\u001b[0m\u001b[0;34m\u001b[0m\u001b[0m\n\u001b[0m\u001b[1;32m      2\u001b[0m \u001b[0;32mfrom\u001b[0m \u001b[0mnumpy\u001b[0m\u001b[0;34m.\u001b[0m\u001b[0m_core\u001b[0m\u001b[0;34m.\u001b[0m\u001b[0mstrings\u001b[0m \u001b[0;32mimport\u001b[0m \u001b[0;34m*\u001b[0m\u001b[0;34m\u001b[0m\u001b[0;34m\u001b[0m\u001b[0m\n",
            "\u001b[0;32m/usr/local/lib/python3.11/dist-packages/numpy/_core/strings.py\u001b[0m in \u001b[0;36m<module>\u001b[0;34m\u001b[0m\n\u001b[1;32m     12\u001b[0m \u001b[0;32mfrom\u001b[0m \u001b[0mnumpy\u001b[0m\u001b[0;34m.\u001b[0m\u001b[0m_core\u001b[0m\u001b[0;34m.\u001b[0m\u001b[0mmultiarray\u001b[0m \u001b[0;32mimport\u001b[0m \u001b[0m_vec_string\u001b[0m\u001b[0;34m\u001b[0m\u001b[0;34m\u001b[0m\u001b[0m\n\u001b[1;32m     13\u001b[0m \u001b[0;32mfrom\u001b[0m \u001b[0mnumpy\u001b[0m\u001b[0;34m.\u001b[0m\u001b[0m_core\u001b[0m\u001b[0;34m.\u001b[0m\u001b[0moverrides\u001b[0m \u001b[0;32mimport\u001b[0m \u001b[0mset_module\u001b[0m\u001b[0;34m\u001b[0m\u001b[0;34m\u001b[0m\u001b[0m\n\u001b[0;32m---> 14\u001b[0;31m from numpy._core.umath import (\n\u001b[0m\u001b[1;32m     15\u001b[0m     \u001b[0misalpha\u001b[0m\u001b[0;34m,\u001b[0m\u001b[0;34m\u001b[0m\u001b[0;34m\u001b[0m\u001b[0m\n\u001b[1;32m     16\u001b[0m     \u001b[0misdigit\u001b[0m\u001b[0;34m,\u001b[0m\u001b[0;34m\u001b[0m\u001b[0;34m\u001b[0m\u001b[0m\n",
            "\u001b[0;31mImportError\u001b[0m: cannot import name '_center' from 'numpy._core.umath' (/usr/local/lib/python3.11/dist-packages/numpy/_core/umath.py)",
            "",
            "\u001b[0;31m---------------------------------------------------------------------------\u001b[0;32m\nNOTE: If your import is failing due to a missing package, you can\nmanually install dependencies using either !pip or !apt.\n\nTo view examples of installing some common dependencies, click the\n\"Open Examples\" button below.\n\u001b[0;31m---------------------------------------------------------------------------\u001b[0m\n"
          ],
          "errorDetails": {
            "actions": [
              {
                "action": "open_url",
                "actionText": "Open Examples",
                "url": "/notebooks/snippets/importing_libraries.ipynb"
              }
            ]
          }
        }
      ]
    }
  ]
}